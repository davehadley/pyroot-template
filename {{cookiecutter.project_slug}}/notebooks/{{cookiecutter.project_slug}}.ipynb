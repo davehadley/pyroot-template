{
 "cells": [
  {
   "cell_type": "code",
   "execution_count": null,
   "metadata": {},
   "outputs": [],
   "source": []
  }
 ],
 "metadata": {
  "kernelspec": {
   "display_name": "Python 3",
   "language": "python",
   "name": "python3"
  },
  "language_info": {
   "name": "python",
   "version": "3.10.5 (main, Nov  4 2022, 17:33:46) [GCC 9.4.0]"
  },
  "orig_nbformat": 4,
  "vscode": {
   "interpreter": {
    "hash": "21f83eac360e3bbd5eadf6da6e42c729a9e119e12fadef702273d48a44a0effe"
   }
  }
 },
 "nbformat": 4,
 "nbformat_minor": 2
}
